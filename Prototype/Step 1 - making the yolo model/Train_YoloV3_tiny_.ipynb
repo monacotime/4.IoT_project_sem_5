{
  "nbformat": 4,
  "nbformat_minor": 0,
  "metadata": {
    "colab": {
      "name": "Train_YoloV3-tiny .ipynb",
      "provenance": [],
      "collapsed_sections": []
    },
    "kernelspec": {
      "name": "python3",
      "display_name": "Python 3"
    },
    "accelerator": "GPU"
  },
  "cells": [
    {
      "cell_type": "markdown",
      "metadata": {
        "id": "wHBQcQzjD6HJ",
        "colab_type": "text"
      },
      "source": [
        "**Connect google drive**"
      ]
    },
    {
      "cell_type": "code",
      "metadata": {
        "id": "bwp6NIrsZZFP",
        "colab_type": "code",
        "colab": {
          "base_uri": "https://localhost:8080/",
          "height": 357
        },
        "outputId": "4b18fe2f-8373-4739-e927-8f5ab1303c5d"
      },
      "source": [
        "# Check if NVIDIA GPU is enabled\n",
        "!nvidia-smi"
      ],
      "execution_count": 1,
      "outputs": [
        {
          "output_type": "stream",
          "text": [
            "Sun Jul 26 15:55:56 2020       \n",
            "+-----------------------------------------------------------------------------+\n",
            "| NVIDIA-SMI 450.51.05    Driver Version: 418.67       CUDA Version: 10.1     |\n",
            "|-------------------------------+----------------------+----------------------+\n",
            "| GPU  Name        Persistence-M| Bus-Id        Disp.A | Volatile Uncorr. ECC |\n",
            "| Fan  Temp  Perf  Pwr:Usage/Cap|         Memory-Usage | GPU-Util  Compute M. |\n",
            "|                               |                      |               MIG M. |\n",
            "|===============================+======================+======================|\n",
            "|   0  Tesla T4            Off  | 00000000:00:04.0 Off |                    0 |\n",
            "| N/A   55C    P8    11W /  70W |      0MiB / 15079MiB |      0%      Default |\n",
            "|                               |                      |                 ERR! |\n",
            "+-------------------------------+----------------------+----------------------+\n",
            "                                                                               \n",
            "+-----------------------------------------------------------------------------+\n",
            "| Processes:                                                                  |\n",
            "|  GPU   GI   CI        PID   Type   Process name                  GPU Memory |\n",
            "|        ID   ID                                                   Usage      |\n",
            "|=============================================================================|\n",
            "|  No running processes found                                                 |\n",
            "+-----------------------------------------------------------------------------+\n"
          ],
          "name": "stdout"
        }
      ]
    },
    {
      "cell_type": "code",
      "metadata": {
        "id": "9e9ZW3sqMEPO",
        "colab_type": "code",
        "colab": {
          "base_uri": "https://localhost:8080/",
          "height": 139
        },
        "outputId": "7411469d-8f09-4550-9e5b-3eed7da5824c"
      },
      "source": [
        "from google.colab import drive\n",
        "drive.mount('/content/gdrive')\n",
        "!ln -s /content/gdrive/My\\ Drive/ /mydrive\n",
        "!ls /mydrive"
      ],
      "execution_count": 2,
      "outputs": [
        {
          "output_type": "stream",
          "text": [
            "Go to this URL in a browser: https://accounts.google.com/o/oauth2/auth?client_id=947318989803-6bn6qk8qdgf4n4g3pfee6491hc0brc4i.apps.googleusercontent.com&redirect_uri=urn%3aietf%3awg%3aoauth%3a2.0%3aoob&response_type=code&scope=email%20https%3a%2f%2fwww.googleapis.com%2fauth%2fdocs.test%20https%3a%2f%2fwww.googleapis.com%2fauth%2fdrive%20https%3a%2f%2fwww.googleapis.com%2fauth%2fdrive.photos.readonly%20https%3a%2f%2fwww.googleapis.com%2fauth%2fpeopleapi.readonly\n",
            "\n",
            "Enter your authorization code:\n",
            "··········\n",
            "Mounted at /content/gdrive\n",
            " Classroom  'Colab Notebooks'  'Files to share'  'My documents'   yolov3\n"
          ],
          "name": "stdout"
        }
      ]
    },
    {
      "cell_type": "markdown",
      "metadata": {
        "id": "t7utW4in4azV",
        "colab_type": "text"
      },
      "source": [
        "**1) Clone the Darknet**\n",
        "\n"
      ]
    },
    {
      "cell_type": "code",
      "metadata": {
        "id": "e03U7Zi-qMr2",
        "colab_type": "code",
        "colab": {
          "base_uri": "https://localhost:8080/",
          "height": 136
        },
        "outputId": "f764bbba-559f-4104-8364-daa83882a032"
      },
      "source": [
        "!git clone https://github.com/AlexeyAB/darknet"
      ],
      "execution_count": 3,
      "outputs": [
        {
          "output_type": "stream",
          "text": [
            "Cloning into 'darknet'...\n",
            "remote: Enumerating objects: 73, done.\u001b[K\n",
            "remote: Counting objects: 100% (73/73), done.\u001b[K\n",
            "remote: Compressing objects: 100% (60/60), done.\u001b[K\n",
            "remote: Total 14073 (delta 34), reused 28 (delta 13), pack-reused 14000\u001b[K\n",
            "Receiving objects: 100% (14073/14073), 12.83 MiB | 3.83 MiB/s, done.\n",
            "Resolving deltas: 100% (9557/9557), done.\n"
          ],
          "name": "stdout"
        }
      ]
    },
    {
      "cell_type": "markdown",
      "metadata": {
        "id": "7gDOF3mU-TAn",
        "colab_type": "text"
      },
      "source": [
        "**2) Compile Darknet using Nvidia GPU**\n"
      ]
    },
    {
      "cell_type": "code",
      "metadata": {
        "id": "5H-Taj06Tw1c",
        "colab_type": "code",
        "colab": {}
      },
      "source": [
        "# change makefile to have GPU and OPENCV enabled\n",
        "%%capture\n",
        "%cd darknet\n",
        "!sed -i 's/OPENCV=0/OPENCV=1/' Makefile\n",
        "!sed -i 's/GPU=0/GPU=1/' Makefile\n",
        "!sed -i 's/CUDNN=0/CUDNN=1/' Makefile\n",
        "# !make"
      ],
      "execution_count": 4,
      "outputs": []
    },
    {
      "cell_type": "code",
      "metadata": {
        "id": "0Twstgv62swH",
        "colab_type": "code",
        "colab": {}
      },
      "source": [
        "!make"
      ],
      "execution_count": null,
      "outputs": []
    },
    {
      "cell_type": "markdown",
      "metadata": {
        "id": "gAOLtA_qI9vF",
        "colab_type": "text"
      },
      "source": [
        "**3) Configure Darknet network for training YOLO V3**"
      ]
    },
    {
      "cell_type": "code",
      "metadata": {
        "id": "s-RpscgU853t",
        "colab_type": "code",
        "colab": {}
      },
      "source": [
        "!cp cfg/yolov3-tiny.cfg cfg/yolov3-tiny_training.cfg"
      ],
      "execution_count": 6,
      "outputs": []
    },
    {
      "cell_type": "code",
      "metadata": {
        "id": "5ZgVQRop_vwR",
        "colab_type": "code",
        "colab": {}
      },
      "source": [
        "!sed -i 's/batch=1/batch=64/' cfg/yolov3-tiny_training.cfg\n",
        "!sed -i 's/subdivisions=1/subdivisions=16/' cfg/yolov3-tiny_training.cfg\n",
        "!sed -i 's/max_batches = 500200/max_batches = 4000/' cfg/yolov3-tiny_training.cfg\n",
        "\n",
        "!sed -i '135 s@classes=80@classes=2@' cfg/yolov3-tiny_training.cfg\n",
        "!sed -i '177 s@classes=80@classes=2@' cfg/yolov3-tiny_training.cfg\n",
        "\n",
        "!sed -i '127 s@filters=255@filters=21@' cfg/yolov3-tiny_training.cfg\n",
        "!sed -i '171 s@filters=255@filters=21@' cfg/yolov3-tiny_training.cfg\n",
        "\n",
        "#(X+5)*3"
      ],
      "execution_count": 7,
      "outputs": []
    },
    {
      "cell_type": "code",
      "metadata": {
        "id": "nscRN-X2Mr3d",
        "colab_type": "code",
        "colab": {}
      },
      "source": [
        "# Create folder on google drive so that we can save there the weights\n",
        "# !mkdir \"/mydrive/yolov3\""
      ],
      "execution_count": null,
      "outputs": []
    },
    {
      "cell_type": "code",
      "metadata": {
        "id": "7AIBw_psIclz",
        "colab_type": "code",
        "colab": {}
      },
      "source": [
        "!echo -e 'ok\\ncall' > data/obj.names\n",
        "!echo -e 'classes= 2\\ntrain  = data/train.txt\\nvalid  = data/test.txt\\nnames = data/obj.names\\nbackup = /mydrive/yolov3' > data/obj.data\n",
        "!mkdir data/obj"
      ],
      "execution_count": 8,
      "outputs": []
    },
    {
      "cell_type": "code",
      "metadata": {
        "id": "eZlkzFMW7I_N",
        "colab_type": "code",
        "colab": {}
      },
      "source": [
        "# Download weights darknet model 53\n",
        "# !wget https://pjreddie.com/media/files/darknet53.conv.74\n",
        "!cp /mydrive/yolov3/yolov3-tiny.conv.11 /content/darknet/"
      ],
      "execution_count": 9,
      "outputs": []
    },
    {
      "cell_type": "markdown",
      "metadata": {
        "id": "9RbVKJjoncW2",
        "colab_type": "text"
      },
      "source": [
        "**4) Extract Images**\n",
        "\n",
        "The images need to be inside a zip archive called \"images.zip\" and they need to be inside the folder \"yolov3\" on Google Drive"
      ]
    },
    {
      "cell_type": "code",
      "metadata": {
        "id": "jhb5nZvsQ_96",
        "colab_type": "code",
        "colab": {}
      },
      "source": [
        "!unzip /mydrive/yolov3/images.zip -d data/obj"
      ],
      "execution_count": null,
      "outputs": []
    },
    {
      "cell_type": "code",
      "metadata": {
        "id": "5I_0ht7ITMUu",
        "colab_type": "code",
        "colab": {
          "base_uri": "https://localhost:8080/",
          "height": 54
        },
        "outputId": "dd5252e5-9c52-486d-bb90-47054a19abf1"
      },
      "source": [
        "import glob\n",
        "images_list = glob.glob(\"data/obj/*.jpg\")\n",
        "print(images_list)"
      ],
      "execution_count": 11,
      "outputs": [
        {
          "output_type": "stream",
          "text": [
            "['data/obj/033.jpg', 'data/obj/018.jpg', 'data/obj/032.jpg', 'data/obj/144.jpg', 'data/obj/036.jpg', 'data/obj/160.jpg', 'data/obj/045.jpg', 'data/obj/128.jpg', 'data/obj/166.jpg', 'data/obj/014.jpg', 'data/obj/048.jpg', 'data/obj/124.jpg', 'data/obj/138.jpg', 'data/obj/013.jpg', 'data/obj/026.jpg', 'data/obj/060.jpg', 'data/obj/01.jpg', 'data/obj/09.jpg', 'data/obj/016.jpg', 'data/obj/131.jpg', 'data/obj/148.jpg', 'data/obj/120.jpg', 'data/obj/134.jpg', 'data/obj/064.jpg', 'data/obj/11.jpg', 'data/obj/16.jpg', 'data/obj/151.jpg', 'data/obj/065.jpg', 'data/obj/015.jpg', 'data/obj/058.jpg', 'data/obj/117.jpg', 'data/obj/017.jpg', 'data/obj/155.jpg', 'data/obj/163.jpg', 'data/obj/052.jpg', 'data/obj/18.jpg', 'data/obj/111.jpg', 'data/obj/164.jpg', 'data/obj/044.jpg', 'data/obj/145.jpg', 'data/obj/130.jpg', 'data/obj/113.jpg', 'data/obj/056.jpg', 'data/obj/162.jpg', 'data/obj/119.jpg', 'data/obj/068.jpg', 'data/obj/114.jpg', 'data/obj/110.jpg', 'data/obj/157.jpg', 'data/obj/035.jpg', 'data/obj/140.jpg', 'data/obj/031.jpg', 'data/obj/142.jpg', 'data/obj/133.jpg', 'data/obj/019.jpg', 'data/obj/112.jpg', 'data/obj/168.jpg', 'data/obj/158.jpg', 'data/obj/169.jpg', 'data/obj/121.jpg', 'data/obj/012.jpg', 'data/obj/156.jpg', 'data/obj/02.jpg', 'data/obj/170.jpg', 'data/obj/161.jpg', 'data/obj/072.jpg', 'data/obj/137.jpg', 'data/obj/150.jpg', 'data/obj/159.jpg', 'data/obj/146.jpg', 'data/obj/129.jpg', 'data/obj/037.jpg', 'data/obj/149.jpg', 'data/obj/135.jpg', 'data/obj/06.jpg', 'data/obj/043.jpg', 'data/obj/055.jpg', 'data/obj/116.jpg', 'data/obj/07.jpg', 'data/obj/153.jpg', 'data/obj/165.jpg', 'data/obj/040.jpg', 'data/obj/027.jpg', 'data/obj/03.jpg', 'data/obj/050.jpg', 'data/obj/039.jpg', 'data/obj/127.jpg', 'data/obj/15.jpg', 'data/obj/066.jpg', 'data/obj/136.jpg', 'data/obj/139.jpg', 'data/obj/17.jpg', 'data/obj/062.jpg', 'data/obj/132.jpg', 'data/obj/042.jpg', 'data/obj/029.jpg', 'data/obj/122.jpg', 'data/obj/143.jpg', 'data/obj/14.jpg', 'data/obj/059.jpg', 'data/obj/19.jpg', 'data/obj/04.jpg', 'data/obj/070.jpg', 'data/obj/041.jpg', 'data/obj/154.jpg', 'data/obj/12.jpg', 'data/obj/046.jpg', 'data/obj/049.jpg', 'data/obj/057.jpg', 'data/obj/126.jpg', 'data/obj/067.jpg', 'data/obj/022.jpg', 'data/obj/020.jpg', 'data/obj/030.jpg', 'data/obj/051.jpg', 'data/obj/053.jpg', 'data/obj/023.jpg', 'data/obj/13.jpg', 'data/obj/024.jpg', 'data/obj/123.jpg', 'data/obj/021.jpg', 'data/obj/025.jpg', 'data/obj/115.jpg', 'data/obj/141.jpg', 'data/obj/08.jpg', 'data/obj/125.jpg', 'data/obj/118.jpg', 'data/obj/011.jpg', 'data/obj/034.jpg', 'data/obj/167.jpg', 'data/obj/028.jpg', 'data/obj/063.jpg', 'data/obj/071.jpg', 'data/obj/010.jpg', 'data/obj/038.jpg', 'data/obj/047.jpg', 'data/obj/054.jpg', 'data/obj/147.jpg', 'data/obj/061.jpg', 'data/obj/05.jpg', 'data/obj/069.jpg']\n"
          ],
          "name": "stdout"
        }
      ]
    },
    {
      "cell_type": "code",
      "metadata": {
        "id": "EzygoAtMSnon",
        "colab_type": "code",
        "colab": {}
      },
      "source": [
        "#Create training.txt file\n",
        "file = open(\"data/train.txt\", \"w\") \n",
        "file.write(\"\\n\".join(images_list)) \n",
        "file.close() "
      ],
      "execution_count": 12,
      "outputs": []
    },
    {
      "cell_type": "markdown",
      "metadata": {
        "id": "CeSiuLrXoAjc",
        "colab_type": "text"
      },
      "source": [
        "**6) Start the training**"
      ]
    },
    {
      "cell_type": "markdown",
      "metadata": {
        "id": "rOJN8bxvrW1i",
        "colab_type": "text"
      },
      "source": [
        "**Start time : 2:44 AM**"
      ]
    },
    {
      "cell_type": "code",
      "metadata": {
        "id": "S3_g3jclUzMm",
        "colab_type": "code",
        "colab": {}
      },
      "source": [
        "%%capture\n",
        "# Start the training\n",
        "!./darknet detector train data/obj.data cfg/yolov3-tiny_training.cfg yolov3-tiny.conv.11 -dont_show"
      ],
      "execution_count": 14,
      "outputs": []
    }
  ]
}